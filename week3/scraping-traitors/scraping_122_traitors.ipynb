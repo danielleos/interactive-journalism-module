{
 "cells": [
  {
   "cell_type": "markdown",
   "metadata": {
    "deletable": true,
    "editable": true
   },
   "source": [
    "# Scraping traitors\n",
    "\n",
    "### The 122 MPs who voted against Article 50\n",
    "Source: Guido: https://order-order.com/2017/02/08/named-122-mps-voted-brexit/"
   ]
  },
  {
   "cell_type": "markdown",
   "metadata": {
    "deletable": true,
    "editable": true
   },
   "source": [
    "We start by importing our modules.\n",
    "\n",
    "* `BeautifulSoup` is our scraper and parser\n",
    "* `requests` is to fetch HTML content from the internets\n",
    "* `csv` will help us parse and write a CSV file at the end",
    "* `pandas` is another module that can read and write CSV files (edit)"
   ]
  },
  {
   "cell_type": "code",
   "execution_count": 7,
   "metadata": {
    "collapsed": false,
    "deletable": true,
    "editable": true
   },
   "outputs": [],
   "source": [
    "from bs4 import BeautifulSoup\n",
    "import requests\n",
    "# import csv\n",
    "import pandas as pd\n",
    "import os"
   ]
  },
  {
   "cell_type": "code",
   "execution_count": 8,
   "metadata": {
    "collapsed": true,
    "deletable": true,
    "editable": true
   },
   "outputs": [],
   "source": [
    "# We store the URL of the content we'll want to scrape in a variable\n",
    "url = 'https://order-order.com/2017/02/08/named-122-mps-voted-brexit/'"
   ]
  },
  {
   "cell_type": "markdown",
   "metadata": {},
   "source": [
    "Let's just check that our request went through fine.\n",
    "We're expecting a status code of 200, and a True statement"
   ]
  },
  {
   "cell_type": "code",
   "execution_count": 9,
   "metadata": {
    "collapsed": false,
    "deletable": true,
    "editable": true
   },
   "outputs": [
    {
     "name": "stdout",
     "output_type": "stream",
     "text": [
      "Status code: (200 is good): 200\n",
      "Is out status code 200?\n",
      "True\n"
     ]
    }
   ],
   "source": [
    "# GET request for the URL content\n",
    "response = requests.get(url)\n",
    "\n",
    "# the response has methods and parameters, such as its status\n",
    "# docs: http://docs.python-requests.org/en/master/\n",
    "print \"Status code: (200 is good):\", response.status_code\n",
    "\n",
    "if response.status_code is 200:\n",
    "    print \"Is out status code 200?\"\n",
    "    print True\n",
    "else:\n",
    "    print \"ERROR! aborting\"\n",
    "    sys.exit()"
   ]
  },
  {
   "cell_type": "code",
   "execution_count": 10,
   "metadata": {
    "collapsed": false,
    "deletable": true,
    "editable": true
   },
   "outputs": [],
   "source": [
    "# parses the HTML\n",
    "html = response.content\n",
    "\n",
    "# magic beautifulsoup method\n",
    "soup = BeautifulSoup(html, 'lxml')"
   ]
  },
  {
   "cell_type": "code",
   "execution_count": 11,
   "metadata": {
    "collapsed": false,
    "deletable": true,
    "editable": true
   },
   "outputs": [
    {
     "name": "stdout",
     "output_type": "stream",
     "text": [
      "2 blockquote elements found\n"
     ]
    }
   ],
   "source": [
    "# find a <blockquote> element with a given HTML class\n",
    "# and store it into a variable\n",
    "blockquotes = soup.findAll('blockquote')\n",
    "print len(blockquotes), 'blockquote elements found'"
   ]
  },
  {
   "cell_type": "markdown",
   "metadata": {},
   "source": [
    "### The nitty-gritty bit\n"
   ]
  },
  {
   "cell_type": "code",
   "execution_count": 12,
   "metadata": {
    "collapsed": false
   },
   "outputs": [],
   "source": [
    "# empty list\n",
    "# [row one, row two, row three, etc.]\n",
    "list_of_rows = []\n",
    "\n",
    "# control flow: for loop\n",
    "# find all <em> elements\n",
    "# the append method appends data to the above lists\n",
    "for blockquote in blockquotes:\n",
    "    \n",
    "    for row in blockquote.findAll('em'):\n",
    "        \n",
    "        row = row.text.encode('utf-8')\n",
    "        "
   ]
  },
  {
   "cell_type": "code",
   "execution_count": 43,
   "metadata": {
    "collapsed": false,
    "deletable": true,
    "editable": true
   },
   "outputs": [
    {
     "name": "stdout",
     "output_type": "stream",
     "text": [
      "error\n",
      "error\n",
      "error\n",
      "error\n",
      "error\n",
      "error\n",
      "error\n",
      "error\n",
      "error\n",
      "[['Ms Tasmina Ahmed-Sheikh ', 'SNP', 'Ochil and South Perthshire'], ['Heidi Alexander ', 'Labour', 'Lewisham East'], ['Rushanara Ali ', 'Labour', 'Bethnal Green and Bow'], ['Mr Graham Allen ', 'Labour', 'Nottingham North'], ['Dr Rosena Allin-Khan ', 'Labour', 'Tooting'], ['Richard Arkless ', 'Scottish National Party', 'Dumfries and Galloway'], ['Hannah Bardell ', 'Scottish National Party', 'Livingston'], ['Luciana Berger ', 'Labour ', 'Livingston'], ['Mhairi Black ', 'Scottish National Party', 'Paisley and Renfrewshire South'], ['Ian Blackford ', 'Scottish National Party', 'Ross, Skye and Lochaber'], ['Kirsty Blackman ', 'Scottish National Party', 'Aberdeen North'], ['Philip Boswell ', 'Scottish National Party', 'Coatbridge, Chryston and Bellshill'], ['Mr Ben Bradshaw ', 'Labour', 'Exeter'], ['Tom Brake ', 'Liberal Democrat', 'Carshalton and Wallington'], ['Kevin Brennan ', 'Labour', 'Cardiff West'], ['Deidre Brock ', 'Scottish National Party', 'Edinburgh North and Leith'], ['Alan Brown ', 'Scottish National Party', 'Kilmarnock and Loudoun'], ['Lyn Brown ', 'Labour', 'West Ham'], ['Chris Bryant ', 'Labour', 'Rhondda'], ['Ms Karen Buck ', 'Labour', 'Westminster North'], ['Dawn Butler ', 'Labour', 'Brent Central'], ['Ruth Cadbury ', 'Labour', 'Brentford and Isleworth'], ['Dr Lisa Cameron ', 'SNP', 'East Kilbride, Strathaven and Lesmahagow'], ['Mr Alistair Carmichael ', 'Liberal Democrat', 'Orkney and Shetland'], ['Douglas Chapman ', 'Scottish National Party', 'Dunfermline and West Fife'], ['Joanna Cherry ', 'Scottish National Party', 'Edinburgh South West'], ['Mr Kenneth Clarke ', 'Conservative', 'Rushcliffe'], ['Mr Nick Clegg ', 'Liberal Democrat', 'Sheffield, Hallam'], ['Ann Clwyd ', 'Labour', 'Cynon Valley'], ['Ann Coffey ', 'Labour', 'Stockport'], ['Ronnie Cowan ', 'Scottish National Party', 'Inverclyde'], ['Neil Coyle ', 'Labour', 'Bermondsey and Old Southwark'], ['Angela Crawley ', 'Scottish National Party', 'Lanark and Hamilton East'], ['Mary Creagh ', 'Labour', 'Wakefield'], ['Stella Creasy ', 'Labour ', 'Wakefield'], ['Geraint Davies ', 'Labour ', 'Wakefield'], ['Martyn Day ', 'Scottish National Party', 'Linlithgow and East Falkirk'], ['Thangam Debbonaire ', 'Labour', 'Bristol West'], ['Martin Docherty-Hughes ', 'Scottish National Party', 'West Dunbartonshire'], ['Stuart Blair Donaldson ', 'SNP', 'West Aberdeenshire and Kincardine'], ['Stephen Doughty ', 'Labour ', 'West Aberdeenshire and Kincardine'], ['Jim Dowd ', 'Labour', 'Lewisham West and Penge'], ['Mark Durkan ', 'Social Democratic & Labour Party', 'Foyle'], ['Maria Eagle ', 'Labour', 'Garston and Halewood'], ['Jonathan Edwards ', 'Plaid Cymru', 'Carmarthen East and Dinefwr'], ['Mrs Louise Ellman ', 'Labour ', 'Carmarthen East and Dinefwr'], ['Paul Farrelly ', 'Labour', 'Newcastle-under-Lyme'], ['Tim Farron ', 'Liberal Democrat', 'Westmorland and Lonsdale'], ['Margaret Ferrier ', 'SNP', 'Rutherglen and Hamilton West'], ['Vicky Foxcroft ', 'Labour', 'Lewisham, Deptford'], ['Mike Gapes ', 'Labour ', 'Lewisham, Deptford'], ['Stephen Gethins ', 'Scottish National Party', 'North East Fife'], ['Patricia Gibson ', 'Scottish National Party', 'North Ayrshire and Arran'], ['Patrick Grady ', 'Scottish National Party', 'Glasgow North'], ['Peter Grant ', 'Scottish National Party', 'Glenrothes'], ['Neil Gray ', 'Scottish National Party', 'Airdrie and Shotts'], ['Kate Green ', 'Labour', 'Stretford and Urmston'], ['Lilian Greenwood ', 'Labour', 'Nottingham South'], ['Helen Hayes ', 'Labour', 'Dulwich and West Norwood'], ['Drew Hendry ', 'SNP- Inverness, Nairn, Badenoch and Strathspey)', 'Dulwich and West Norwood'], ['Lady Hermon ', 'Independent', 'North Down'], ['Meg Hillier ', 'Labour ', 'North Down'], ['Stewart Hosie ', 'Scottish National Party', 'Dundee East'], ['Dr Rupa Huq ', 'Labour', 'Ealing Central and Acton'], ['George Kerevan ', 'Scottish National Party', 'East Lothian'], ['Calum Kerr ', 'SNP', 'Berwickshire, Roxburgh and Selkirk'], ['Peter Kyle ', 'Labour', 'Hove'], ['Mr David Lammy ', 'Labour', 'Tottenham'], ['Chris Law ', 'Scottish National Party', 'Dundee West'], ['Clive Lewis ', 'Labour', 'Norwich South'], ['Caroline Lucas ', 'Green Party', 'Brighton, Pavilion'], ['Angus Brendan MacNeil ', 'Scottish National Party', 'Na h-Eileanan an Iar'], ['Rachael Maskell ', 'Labour ', 'Na h-Eileanan an Iar'], ['John Mc Nally ', 'Scottish National Party', 'Falkirk'], ['Callum McCaig ', 'Scottish National Party', 'Aberdeen South'], ['Kerry McCarthy ', 'Labour', 'Bristol East'], ['Stewart Malcolm McDonald ', 'Scottish National Party', 'Glasgow South'], ['Stuart C. McDonald ', 'SNP', 'Cumbernauld, Kilsyth and Kirkintilloch East'], ['Dr Alasdair McDonnell ', 'Social Democratic & Labour Party', 'Belfast South'], ['Natalie McGarry ', 'Independent', 'Glasgow East'], ['Alison McGovern ', 'Labour', 'Wirral South'], ['Catherine McKinnell ', 'Labour', 'Newcastle upon Tyne North'], ['Anne McLaughlin ', 'Scottish National Party', 'Glasgow North East'], ['Carol Monaghan ', 'Scottish National Party', 'Glasgow North West'], ['Dr Paul Monaghan ', 'SNP', 'Caithness, Sutherland and Easter Ross'], ['Mrs Madeleine Moon ', 'Labour', 'Bridgend'], ['Roger Mullin ', 'Scottish National Party', 'Kirkcaldy and Cowdenbeath'], ['Ian Murray ', 'Labour', 'Edinburgh South'], ['Gavin Newlands ', 'SNP', 'Paisley and Renfrewshire North'], ['John Nicolson ', 'Scottish National Party', 'East Dunbartonshire'], ['Brendan O\\xe2\\x80\\x99Hara ', 'Scottish National Party', 'Argyll and Bute'], ['Sarah Olney ', 'Liberal Democrat', 'Richmond Park'], ['Chi Onwurah ', 'Labour', 'Newcastle upon Tyne Central'], ['Kirsten Oswald ', 'Scottish National Party', 'East Renfrewshire'], ['Steven Paterson ', 'Scottish National Party', 'Stirling'], ['Stephen Pound ', 'Labour', 'Ealing North'], ['John Pugh ', 'Liberal Democrat', 'Southport'], ['Ms Margaret Ritchie ', 'Social Democratic & Labour Party', 'South Down'], ['Angus Robertson ', 'Scottish National Party', 'Moray'], ['Alex Salmond ', 'Scottish National Party', 'Gordon'], ['Liz Saville Roberts ', 'Plaid Cymru', 'Dwyfor Meirionnydd'], ['Mr Virendra Sharma ', 'Labour', 'Ealing, Southall'], ['Tommy Sheppard ', 'Scottish National Party', 'Edinburgh East'], ['Tulip Siddiq ', 'Labour', 'Hampstead and Kilburn'], ['Andy Slaughter ', 'Labour', 'Hammersmith'], ['Jeff Smith ', 'Labour', 'Manchester, Withington'], ['Owen Smith ', 'Labour', 'Pontypridd'], ['Chris Stephens ', 'Scottish National Party', 'Glasgow South West'], ['Jo Stevens ', 'Labour', 'Cardiff Central'], ['Alison Thewliss ', 'Scottish National Party', 'Glasgow Central'], ['Michelle Thomson ', 'Independent', 'Edinburgh West'], ['Stephen Timms ', 'Labour', 'East Ham'], ['Mike Weir ', 'Scottish National Party', 'Angus'], ['Catherine West ', 'Labour', 'Hornsey and Wood Green'], ['Dr Eilidh Whiteford ', 'Scottish National Party', 'Banff and Buchan'], ['Dr Alan Whitehead ', 'Labour', 'Southampton, Test'], ['Dr Philippa Whitford ', 'Scottish National Party', 'Central Ayrshire'], ['Hywel Williams ', 'Plaid Cymru', 'Arfon'], ['Mr Mark Williams ', 'Liberal Democrat', 'Ceredigion'], ['Corri Wilson ', 'Scottish National Party', 'Ayr, Carrick and Cumnock'], ['Pete Wishart ', 'Scottish National Party', 'Perth and North Perthshire'], ['Daniel Zeichner ', 'Labour', 'Cambridge']]\n"
     ]
    }
   ],
   "source": [
    "        split_row = row.split('(')\n",
    "        \n",
    "        # list of MPs\n",
    "        mps = split_row[0]\n",
    "        # list of constituencies\n",
    "        party = split_row[1].split(' – ')[0]\n",
    "        # catch an error on some\n",
    "        try:\n",
    "            constituency = split_row[1].split(' – ')[1]\n",
    "            constituency = constituency[:-1]\n",
    "        except:\n",
    "            print 'error'\n",
    "\n",
    "        # build our row\n",
    "        list_of_cells = []\n",
    "        list_of_cells.append(mps)\n",
    "        list_of_cells.append(party)\n",
    "        list_of_cells.append(constituency)\n",
    "        \n",
    "        #print list_of_cells\n",
    "        list_of_rows.append(list_of_cells)"
   ]
  },
  {
   "cell_type": "code",
   "execution_count": null,
   "metadata": {
    "collapsed": true,
    "deletable": true,
    "editable": true
   },
   "outputs": [],
   "source": [
    "# with open('data.csv', 'w') as outfile:\n",
    "    # writer = csv.writer(outfile)\n",
    "    # writer.writerow(['MP', 'Party', 'Constituency'])\n",
    "    # writer.writerows(list_of_rows)",
    " # insert pandas write version here "
   ]
  },
  {
   "cell_type": "code",
   "execution_count": null,
   "metadata": {
    "collapsed": true,
    "deletable": true,
    "editable": true
   },
   "outputs": [],
   "source": []
  }
 ],
 "metadata": {
  "kernelspec": {
   "display_name": "Python 2",
   "language": "python",
   "name": "python2"
  },
  "language_info": {
   "codemirror_mode": {
    "name": "ipython",
    "version": 2
   },
   "file_extension": ".py",
   "mimetype": "text/x-python",
   "name": "python",
   "nbconvert_exporter": "python",
   "pygments_lexer": "ipython2",
   "version": "2.7.12"
  }
 },
 "nbformat": 4,
 "nbformat_minor": 2
}
